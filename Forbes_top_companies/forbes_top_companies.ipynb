{
 "cells": [
  {
   "cell_type": "code",
   "execution_count": null,
   "id": "5147ac3d",
   "metadata": {},
   "outputs": [
    {
     "name": "stdout",
     "output_type": "stream",
     "text": [
      "   Rank                                   Company   Headquarters  \\\n",
      "0     1                             JPMorganChase  United States   \n",
      "1     2                        Berkshire Hathaway  United States   \n",
      "2     3                                      ICBC          China   \n",
      "3     4  Saudi Arabian Oil Company (Saudi Aramco)   Saudi Arabia   \n",
      "4     5                                    Amazon  United States   \n",
      "\n",
      "               Industry  Sales ($B) Profit ($B) Assets ($B) Market Value ($B)  \n",
      "0               Banking      285.11      59.36    4,357.86             677.8   \n",
      "1             Insurance      371.43          89   1,153.88          1,145.46   \n",
      "2               Banking      221.96      50.84     6,688.6            251.33   \n",
      "3  Oil & Gas Operations      480.15     104.97      645.03          1,663.38   \n",
      "4  Retail and Wholesale      637.96      59.25      624.89          2,005.64   \n"
     ]
    }
   ],
   "source": [
    "import pandas as pd\n",
    "import seaborn as sns\n",
    "import matplotlib.pyplot as plt\n",
    "\n",
    "df = pd.read_csv(r\"C:\\Users\\allah\\Downloads\\archive (5)\\Forbes_2000_Companies_2025.csv\", sep=';')\n",
    "\n",
    "print(df.head(5))"
   ]
  },
  {
   "cell_type": "code",
   "execution_count": 2,
   "id": "3a5b93f5",
   "metadata": {},
   "outputs": [],
   "source": [
    "df.drop_duplicates(inplace=True)"
   ]
  },
  {
   "cell_type": "code",
   "execution_count": 3,
   "id": "61fb2c95",
   "metadata": {},
   "outputs": [
    {
     "name": "stderr",
     "output_type": "stream",
     "text": [
      "<>:1: SyntaxWarning: invalid escape sequence '\\d'\n",
      "<>:3: SyntaxWarning: invalid escape sequence '\\d'\n",
      "<>:5: SyntaxWarning: invalid escape sequence '\\d'\n",
      "<>:1: SyntaxWarning: invalid escape sequence '\\d'\n",
      "<>:3: SyntaxWarning: invalid escape sequence '\\d'\n",
      "<>:5: SyntaxWarning: invalid escape sequence '\\d'\n",
      "C:\\Users\\allah\\AppData\\Local\\Temp\\ipykernel_6216\\1032278231.py:1: SyntaxWarning: invalid escape sequence '\\d'\n",
      "  df['Profit ($B)'] = df['Profit ($B)'].str.replace('[^\\d\\.-]', '', regex=True)\n",
      "C:\\Users\\allah\\AppData\\Local\\Temp\\ipykernel_6216\\1032278231.py:3: SyntaxWarning: invalid escape sequence '\\d'\n",
      "  df['Assets ($B)'] = df['Assets ($B)'].str.replace('[^\\d\\.-]', '', regex=True)\n",
      "C:\\Users\\allah\\AppData\\Local\\Temp\\ipykernel_6216\\1032278231.py:5: SyntaxWarning: invalid escape sequence '\\d'\n",
      "  df['Market Value ($B)'] = df['Market Value ($B)'].str.replace('[^\\d\\.-]', '', regex=True)\n"
     ]
    }
   ],
   "source": [
    "df['Profit ($B)'] = df['Profit ($B)'].str.replace(r'[^\\d\\.-]', '', regex=True)\n",
    "df['Profit ($B)'] = pd.to_numeric(df['Profit ($B)'], errors='coerce')\n",
    "df['Assets ($B)'] = df['Assets ($B)'].str.replace(r'[^\\d\\.-]', '', regex=True)\n",
    "df['Assets ($B)'] = pd.to_numeric(df['Assets ($B)'], errors='coerce')\n",
    "df['Market Value ($B)'] = df['Market Value ($B)'].str.replace(r'[^\\d\\.-]', '', regex=True)\n",
    "df['Market Value ($B)'] = pd.to_numeric(df['Market Value ($B)'], errors='coerce')"
   ]
  },
  {
   "cell_type": "code",
   "execution_count": 4,
   "id": "03acbe14",
   "metadata": {},
   "outputs": [
    {
     "name": "stdout",
     "output_type": "stream",
     "text": [
      "<class 'pandas.core.frame.DataFrame'>\n",
      "RangeIndex: 2000 entries, 0 to 1999\n",
      "Data columns (total 8 columns):\n",
      " #   Column             Non-Null Count  Dtype  \n",
      "---  ------             --------------  -----  \n",
      " 0   Rank               2000 non-null   int64  \n",
      " 1   Company            2000 non-null   object \n",
      " 2   Headquarters       2000 non-null   object \n",
      " 3   Industry           2000 non-null   object \n",
      " 4   Sales ($B)         2000 non-null   float64\n",
      " 5   Profit ($B)        1998 non-null   float64\n",
      " 6   Assets ($B)        2000 non-null   float64\n",
      " 7   Market Value ($B)  2000 non-null   float64\n",
      "dtypes: float64(4), int64(1), object(3)\n",
      "memory usage: 125.1+ KB\n",
      "None\n"
     ]
    }
   ],
   "source": [
    "print(df.info())"
   ]
  },
  {
   "cell_type": "code",
   "execution_count": 5,
   "id": "de35c8ba",
   "metadata": {},
   "outputs": [],
   "source": [
    "df.to_csv('Forbes_companies.csv', index=False)"
   ]
  },
  {
   "cell_type": "code",
   "execution_count": null,
   "id": "f8e996ce",
   "metadata": {},
   "outputs": [],
   "source": [
    "df.drop('Company', axis=1, inplace=True)\n",
    "df.drop('Headquarters', axis=1, inplace=True)\n",
    "df.drop('Industry', axis=1, inplace=True)"
   ]
  },
  {
   "cell_type": "code",
   "execution_count": null,
   "id": "4dcde6b7",
   "metadata": {},
   "outputs": [],
   "source": []
  }
 ],
 "metadata": {
  "kernelspec": {
   "display_name": "Python 3",
   "language": "python",
   "name": "python3"
  },
  "language_info": {
   "codemirror_mode": {
    "name": "ipython",
    "version": 3
   },
   "file_extension": ".py",
   "mimetype": "text/x-python",
   "name": "python",
   "nbconvert_exporter": "python",
   "pygments_lexer": "ipython3",
   "version": "3.12.4"
  }
 },
 "nbformat": 4,
 "nbformat_minor": 5
}
