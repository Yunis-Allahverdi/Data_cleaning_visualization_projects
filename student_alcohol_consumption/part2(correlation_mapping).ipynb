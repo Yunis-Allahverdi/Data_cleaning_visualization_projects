{
 "cells": [
  {
   "cell_type": "code",
   "execution_count": null,
   "id": "330c8d2a",
   "metadata": {
    "vscode": {
     "languageId": "plaintext"
    }
   },
   "outputs": [],
   "source": [
    "import pandas as pd\n",
    "\n",
    "pd.set_option('display.max.rows', 200) #if we want to show full or any row limit looking at data\n",
    "\n",
    "data = pd.read_csv(r\"C:\\Users\\allah\\Downloads\\archive (4)\\Stats survey.csv\")\n",
    "            \n",
    "print(data.head(50))"
   ]
  }
 ],
 "metadata": {
  "language_info": {
   "name": "python"
  }
 },
 "nbformat": 4,
 "nbformat_minor": 5
}
